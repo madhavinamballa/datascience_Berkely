{
 "cells": [
  {
   "cell_type": "code",
   "execution_count": 1,
   "metadata": {},
   "outputs": [],
   "source": [
    "# Dependencies\n",
    "import json\n",
    "import requests "
   ]
  },
  {
   "cell_type": "code",
   "execution_count": 2,
   "metadata": {},
   "outputs": [
    {
     "name": "stdout",
     "output_type": "stream",
     "text": [
      "200\n"
     ]
    }
   ],
   "source": [
    "# Specify the URL\n",
    "url = \"http://nyt-mongo-scraper.herokuapp.com/api/headlines\"\n",
    "\n",
    "# Make request and store response\n",
    "response = requests.get(url)\n",
    "\n",
    "# Print status code\n",
    "print(response.status_code)"
   ]
  },
  {
   "cell_type": "code",
   "execution_count": 3,
   "metadata": {},
   "outputs": [
    {
     "data": {
      "text/plain": [
       "[{'saved': False,\n",
       "  '_id': '5d7d07082daeaa001503a015',\n",
       "  'headline': 'The Obscenity of Curves',\n",
       "  'summary': 'Oversexualizing female athletes is dangerous.',\n",
       "  'url': 'https://www.nytimes.com/2019/09/14/opinion/swimsuit-rules-body-image.html',\n",
       "  'date': '2019-09-14T15:28:08.338Z',\n",
       "  '__v': 0},\n",
       " {'saved': False,\n",
       "  '_id': '5d7d07082daeaa001503a017',\n",
       "  'headline': 'Should You Spend, or Save, as if You’ll Live Forever?',\n",
       "  'summary': 'In our Retirement special section, we take a look at research that says how young you feel can influence the way you handle your money.',\n",
       "  'url': 'https://www.nytimes.com/2019/09/12/business/retirement/money-age-spending.html',\n",
       "  'date': '2019-09-14T15:28:08.338Z',\n",
       "  '__v': 0},\n",
       " {'saved': False,\n",
       "  '_id': '5d7d07082daeaa001503a016',\n",
       "  'headline': 'Tracking Students to Keep Them at Games',\n",
       "  'summary': 'The Alabama football coach Nick Saban gets peeved at students leaving early. An app ties staying to playoff tickets, and prompts privacy concerns.',\n",
       "  'url': 'https://www.nytimes.com/2019/09/12/sports/alabama-tracking-app.html',\n",
       "  'date': '2019-09-14T15:28:08.338Z',\n",
       "  '__v': 0},\n",
       " {'saved': False,\n",
       "  '_id': '5d7d07082daeaa001503a013',\n",
       "  'headline': 'Review: ‘She Said’ Recounts the Story Behind the Weinstein StoryNew plays, new shows, new films. Check out our New Season guide.',\n",
       "  'summary': 'The book, by Jodi Kantor and Megan Twohey, revisits their sexual-assault investigation and exposes the powerful people who protected Harvey Weinstein.',\n",
       "  'url': 'https://www.nytimes.com/2019/09/08/books/review/she-said-jodi-kantor-megan-twohey.html',\n",
       "  'date': '2019-09-14T15:28:08.337Z',\n",
       "  '__v': 0},\n",
       " {'saved': False,\n",
       "  '_id': '5d7d07082daeaa001503a014',\n",
       "  'headline': '11 of Our Best Weekend ReadsDid you stay up to date this week? Take our news quiz.',\n",
       "  'summary': 'Men’s stories of sexual assault in the military. A full picture of the Great Flood of 2019. Demi Moore. The Giuliani divorce. And more.',\n",
       "  'url': 'https://www.nytimes.com/2019/09/13/arts/11-of-our-best-weekend-reads.html',\n",
       "  'date': '2019-09-14T15:28:08.337Z',\n",
       "  '__v': 0},\n",
       " {'saved': False,\n",
       "  '_id': '5d7d07082daeaa001503a012',\n",
       "  'headline': 'In Coal Country, the Women Went to Work and the World Changed',\n",
       "  'summary': 'From 2010 to 2017, Letcher County in Kentucky saw a greater shift in the gender balance of its labor force than almost any other county in the United States.',\n",
       "  'url': 'https://www.nytimes.com/2019/09/14/us/appalachia-coal-women-work-.html',\n",
       "  'date': '2019-09-14T15:28:08.336Z',\n",
       "  '__v': 0},\n",
       " {'saved': False,\n",
       "  '_id': '5d7d07082daeaa001503a011',\n",
       "  'headline': 'Drones Strike Saudi Oil Centers, and Yemeni Rebels Claim Responsibility',\n",
       "  'summary': 'It was not clear how badly damaged the facilities were, but such strikes have the potential to disrupt world oil supplies.',\n",
       "  'url': 'https://www.nytimes.com/2019/09/14/world/middleeast/saudi-arabia-refineries-drone-attack.html',\n",
       "  'date': '2019-09-14T15:28:08.336Z',\n",
       "  '__v': 0},\n",
       " {'saved': False,\n",
       "  '_id': '5d7d07082daeaa001503a010',\n",
       "  'headline': 'Trump Inspires California Lawmakers to Go on OffenseIn First, California Would Require Public Universities to Provide Abortion PillsHere are 6 highlights from the 2020 race this week.',\n",
       "  'summary': 'California Democrats have been energized by a wave of anti-Trump sentiment to enact a liberal agenda that counters President Trump’s policies.The bill, if signed by the governor, would mark a new way of giving women access to abortion as conservative states tighten restrictions',\n",
       "  'url': 'https://www.nytimes.com/2019/09/14/us/california-trump-newsom.html',\n",
       "  'date': '2019-09-14T15:28:08.335Z',\n",
       "  '__v': 0}]"
      ]
     },
     "execution_count": 3,
     "metadata": {},
     "output_type": "execute_result"
    }
   ],
   "source": [
    "# JSON-ify response\n",
    "response_json = response.json()\n",
    "response_json"
   ]
  },
  {
   "cell_type": "code",
   "execution_count": 4,
   "metadata": {
    "scrolled": true
   },
   "outputs": [
    {
     "name": "stdout",
     "output_type": "stream",
     "text": [
      "The first response is {\n",
      "  \"saved\": false,\n",
      "  \"_id\": \"5d7d07082daeaa001503a015\",\n",
      "  \"headline\": \"The Obscenity of Curves\",\n",
      "  \"summary\": \"Oversexualizing female athletes is dangerous.\",\n",
      "  \"url\": \"https://www.nytimes.com/2019/09/14/opinion/swimsuit-rules-body-image.html\",\n",
      "  \"date\": \"2019-09-14T15:28:08.338Z\",\n",
      "  \"__v\": 0\n",
      "}.\n",
      "The last response is {\n",
      "  \"saved\": false,\n",
      "  \"_id\": \"5d7d07082daeaa001503a010\",\n",
      "  \"headline\": \"Trump Inspires California Lawmakers to Go on OffenseIn First, California Would Require Public Universities to Provide Abortion PillsHere are 6 highlights from the 2020 race this week.\",\n",
      "  \"summary\": \"California Democrats have been energized by a wave of anti-Trump sentiment to enact a liberal agenda that counters President Trump\\u2019s policies.The bill, if signed by the governor, would mark a new way of giving women access to abortion as conservative states tighten restrictions\",\n",
      "  \"url\": \"https://www.nytimes.com/2019/09/14/us/california-trump-newsom.html\",\n",
      "  \"date\": \"2019-09-14T15:28:08.335Z\",\n",
      "  \"__v\": 0\n",
      "}.\n"
     ]
    }
   ],
   "source": [
    "# Print first and last articles\n",
    "print(f\"The first response is {json.dumps(response_json[0], indent=2)}.\")\n",
    "print(f\"The last response is {json.dumps(response_json[-1], indent=2)}.\")"
   ]
  },
  {
   "cell_type": "code",
   "execution_count": 5,
   "metadata": {},
   "outputs": [
    {
     "name": "stdout",
     "output_type": "stream",
     "text": [
      "We received 8 responses.\n"
     ]
    }
   ],
   "source": [
    "print(f\"We received {len(response_json)} responses.\")"
   ]
  }
 ],
 "metadata": {
  "kernelspec": {
   "display_name": "Python 3",
   "language": "python",
   "name": "python3"
  },
  "language_info": {
   "codemirror_mode": {
    "name": "ipython",
    "version": 3
   },
   "file_extension": ".py",
   "mimetype": "text/x-python",
   "name": "python",
   "nbconvert_exporter": "python",
   "pygments_lexer": "ipython3",
   "version": "3.7.3"
  },
  "varInspector": {
   "cols": {
    "lenName": 16,
    "lenType": 16,
    "lenVar": 40
   },
   "kernels_config": {
    "python": {
     "delete_cmd_postfix": "",
     "delete_cmd_prefix": "del ",
     "library": "var_list.py",
     "varRefreshCmd": "print(var_dic_list())"
    },
    "r": {
     "delete_cmd_postfix": ") ",
     "delete_cmd_prefix": "rm(",
     "library": "var_list.r",
     "varRefreshCmd": "cat(var_dic_list()) "
    }
   },
   "types_to_exclude": [
    "module",
    "function",
    "builtin_function_or_method",
    "instance",
    "_Feature"
   ],
   "window_display": false
  }
 },
 "nbformat": 4,
 "nbformat_minor": 2
}
